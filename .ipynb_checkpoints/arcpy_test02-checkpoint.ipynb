{
 "cells": [
  {
   "cell_type": "code",
   "execution_count": 1,
   "id": "12829c2b-b97d-4956-97b6-33934d4daab4",
   "metadata": {},
   "outputs": [],
   "source": [
    "#this is about test and try again for the py3 scripts in the arcpy"
   ]
  },
  {
   "cell_type": "code",
   "execution_count": null,
   "id": "13ebcabf-fe09-43ab-9b73-648080f92624",
   "metadata": {},
   "outputs": [],
   "source": []
  }
 ],
 "metadata": {
  "kernelspec": {
   "display_name": "Python 3 (ipykernel)",
   "language": "python",
   "name": "python3"
  },
  "language_info": {
   "codemirror_mode": {
    "name": "ipython",
    "version": 3
   },
   "file_extension": ".py",
   "mimetype": "text/x-python",
   "name": "python",
   "nbconvert_exporter": "python",
   "pygments_lexer": "ipython3",
   "version": "3.10.13"
  }
 },
 "nbformat": 4,
 "nbformat_minor": 5
}
