{
 "cells": [
  {
   "cell_type": "code",
   "execution_count": 1,
   "id": "12829c2b-b97d-4956-97b6-33934d4daab4",
   "metadata": {},
   "outputs": [],
   "source": [
    "#this is about test and try again for the py3 scripts in the arcpy"
   ]
  },
  {
   "cell_type": "code",
   "execution_count": null,
   "id": "2187d98c-1308-4013-b9c3-e1eb1309361e",
   "metadata": {},
   "outputs": [],
   "source": [
    "# first we need some change and commend in the Terminal , you can find mehr Info under the text data"
   ]
  },
  {
   "cell_type": "code",
   "execution_count": null,
   "id": "a447ba9f-b793-4cd6-b0ba-ea92affa1224",
   "metadata": {},
   "outputs": [],
   "source": []
  }
 ],
 "metadata": {
  "kernelspec": {
   "display_name": "Python 3 (ipykernel)",
   "language": "python",
   "name": "python3"
  },
  "language_info": {
   "codemirror_mode": {
    "name": "ipython",
    "version": 3
   },
   "file_extension": ".py",
   "mimetype": "text/x-python",
   "name": "python",
   "nbconvert_exporter": "python",
   "pygments_lexer": "ipython3",
   "version": "3.10.13"
  }
 },
 "nbformat": 4,
 "nbformat_minor": 5
}
