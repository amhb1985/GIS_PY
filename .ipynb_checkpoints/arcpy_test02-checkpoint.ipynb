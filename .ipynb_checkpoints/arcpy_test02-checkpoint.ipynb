{
 "cells": [
  {
   "cell_type": "code",
   "execution_count": 1,
   "id": "12829c2b-b97d-4956-97b6-33934d4daab4",
   "metadata": {},
   "outputs": [],
   "source": [
    "#this is about test and try again for the py3 scripts in the arcpy"
   ]
  },
  {
   "cell_type": "code",
   "execution_count": 2,
   "id": "13ebcabf-fe09-43ab-9b73-648080f92624",
   "metadata": {},
   "outputs": [
    {
     "ename": "ModuleNotFoundError",
     "evalue": "No module named 'arcpy'",
     "output_type": "error",
     "traceback": [
      "\u001b[0;31m---------------------------------------------------------------------------\u001b[0m",
      "\u001b[0;31mModuleNotFoundError\u001b[0m                       Traceback (most recent call last)",
      "Cell \u001b[0;32mIn[2], line 1\u001b[0m\n\u001b[0;32m----> 1\u001b[0m \u001b[38;5;28;01mimport\u001b[39;00m \u001b[38;5;21;01marcpy\u001b[39;00m\n",
      "\u001b[0;31mModuleNotFoundError\u001b[0m: No module named 'arcpy'"
     ]
    }
   ],
   "source": [
    "# Notice that we need arcpy in the arcmap\n",
    "# i can not fine any package in the jupiter Lab\n",
    "import arcpy\n"
   ]
  },
  {
   "cell_type": "code",
   "execution_count": null,
   "id": "2187d98c-1308-4013-b9c3-e1eb1309361e",
   "metadata": {},
   "outputs": [],
   "source": []
  },
  {
   "cell_type": "code",
   "execution_count": null,
   "id": "a447ba9f-b793-4cd6-b0ba-ea92affa1224",
   "metadata": {},
   "outputs": [],
   "source": []
  }
 ],
 "metadata": {
  "kernelspec": {
   "display_name": "Python 3 (ipykernel)",
   "language": "python",
   "name": "python3"
  },
  "language_info": {
   "codemirror_mode": {
    "name": "ipython",
    "version": 3
   },
   "file_extension": ".py",
   "mimetype": "text/x-python",
   "name": "python",
   "nbconvert_exporter": "python",
   "pygments_lexer": "ipython3",
   "version": "3.10.13"
  }
 },
 "nbformat": 4,
 "nbformat_minor": 5
}
